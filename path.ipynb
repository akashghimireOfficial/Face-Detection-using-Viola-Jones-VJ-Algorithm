{
 "cells": [
  {
   "cell_type": "code",
   "execution_count": 11,
   "metadata": {},
   "outputs": [],
   "source": [
    "import os \n",
    "from glob import glob\n",
    "from natsort import natsorted\n",
    "import cv2\n",
    "from os.path import join, abspath\n"
   ]
  },
  {
   "cell_type": "code",
   "execution_count": 12,
   "metadata": {},
   "outputs": [],
   "source": [
    "### \n",
    "paths={'Data':join('Data'),\n",
    "'original':join('Data','original'),\n",
    "\n",
    "'custom':join('Data','custom'),\n",
    "'neg_custom':join('Data','custom','n'),\n",
    "\n",
    "'custom_p':join('Data','custom','p'),\n",
    "'custom_p_train':join('Data','custom','p','train'),\n",
    "'custom_p_test':join('Data','Test','custom'),\n",
    "\n",
    "'sample':join('Data','custom','sample'),\n",
    "\n",
    "'public':join('Data','Public'),\n",
    "'neg_public':join('Data','Public','Negative'),\n",
    "'celeba':join('Data','Public','celeba'),\n",
    "'public_p':join('Data','Public','p'),\n",
    "'public_p_train':join('Data','Public','p','train'),\n",
    "'public_p_test':join('Data','Test','public'),\n",
    "\n",
    "'res': join('Result'),\n",
    "\n",
    "'res_cus':join('Result','Custom'),\n",
    "'res_pub':join('Result','Public'),\n",
    "\n",
    "\n",
    "'src':join('src'),\n",
    "'utils':join('utils'),\n",
    "'turtorial':join('turtorial'),\n",
    "}\n"
   ]
  },
  {
   "cell_type": "code",
   "execution_count": 13,
   "metadata": {},
   "outputs": [
    {
     "name": "stdout",
     "output_type": "stream",
     "text": [
      "path:Data already exists\n",
      "path:original already exists\n",
      "path:custom already exists\n",
      "path:neg_custom already exists\n",
      "path:custom_p already exists\n",
      "path:custom_p_train already exists\n",
      "path:custom_p_test already exists\n",
      "path:sample already exists\n",
      "path:public already exists\n",
      "path:neg_public already exists\n",
      "path:celeba already exists\n",
      "path:public_p already exists\n",
      "path:public_p_train already exists\n",
      "path:public_p_test already exists\n",
      "path:src already exists\n",
      "path:utils already exists\n",
      "path:turtorial already exists\n"
     ]
    }
   ],
   "source": [
    "## Creating the above Datset\n",
    "\n",
    "for key,value in paths.items():\n",
    "    if not os.path.exists(value):\n",
    "        os.makedirs(value)\n",
    "        \n",
    "    else:\n",
    "        print('path:{} already exists'.format(key))"
   ]
  },
  {
   "cell_type": "code",
   "execution_count": 13,
   "metadata": {},
   "outputs": [
    {
     "ename": "OSError",
     "evalue": "[Errno 28] No space left on device: 'Data/celeba/__init__.py'",
     "output_type": "error",
     "traceback": [
      "\u001b[0;31m---------------------------------------------------------------------------\u001b[0m",
      "\u001b[0;31mOSError\u001b[0m                                   Traceback (most recent call last)",
      "\u001b[1;32m/media/akashghimire/28E0-A271/Python Projects/cascade_classifier/path.ipynb Cell 4\u001b[0m in \u001b[0;36m<cell line: 2>\u001b[0;34m()\u001b[0m\n\u001b[1;32m      <a href='vscode-notebook-cell:/media/akashghimire/28E0-A271/Python%20Projects/cascade_classifier/path.ipynb#W3sZmlsZQ%3D%3D?line=1'>2</a>\u001b[0m \u001b[39mfor\u001b[39;00m key,value \u001b[39min\u001b[39;00m paths\u001b[39m.\u001b[39mitems():\n\u001b[1;32m      <a href='vscode-notebook-cell:/media/akashghimire/28E0-A271/Python%20Projects/cascade_classifier/path.ipynb#W3sZmlsZQ%3D%3D?line=2'>3</a>\u001b[0m     file\u001b[39m=\u001b[39mos\u001b[39m.\u001b[39mpath\u001b[39m.\u001b[39mjoin(value,\u001b[39m'\u001b[39m\u001b[39m__init__.py\u001b[39m\u001b[39m'\u001b[39m)\n\u001b[0;32m----> <a href='vscode-notebook-cell:/media/akashghimire/28E0-A271/Python%20Projects/cascade_classifier/path.ipynb#W3sZmlsZQ%3D%3D?line=3'>4</a>\u001b[0m     \u001b[39mwith\u001b[39;00m \u001b[39mopen\u001b[39;49m(file,\u001b[39m'\u001b[39;49m\u001b[39mw\u001b[39;49m\u001b[39m'\u001b[39;49m) \u001b[39mas\u001b[39;00m file:\n\u001b[1;32m      <a href='vscode-notebook-cell:/media/akashghimire/28E0-A271/Python%20Projects/cascade_classifier/path.ipynb#W3sZmlsZQ%3D%3D?line=4'>5</a>\u001b[0m         file\u001b[39m.\u001b[39mwrite(\u001b[39m'\u001b[39m\u001b[39m'\u001b[39m)\n",
      "\u001b[0;31mOSError\u001b[0m: [Errno 28] No space left on device: 'Data/celeba/__init__.py'"
     ]
    }
   ],
   "source": [
    "## Create __init__.py in each file\n",
    "for key,value in paths.items():\n",
    "    file=os.path.join(value,'__init__.py')\n",
    "    with open(file,'w') as file:\n",
    "        file.write('')\n",
    "    "
   ]
  },
  {
   "cell_type": "code",
   "execution_count": 12,
   "metadata": {},
   "outputs": [],
   "source": [
    "team_members=['Akash','Bijay','Pradeep','Keshav']\n",
    "samples_types=['p','n']\n",
    "\n",
    "\n"
   ]
  },
  {
   "cell_type": "code",
   "execution_count": 8,
   "metadata": {},
   "outputs": [],
   "source": [
    "for member in team_members:\n",
    "    for sample_type in samples_types:\n",
    "        path=os.path.join(paths['original'],member,sample_type)\n",
    "        if not os.path.exists(path):\n",
    "            os.makedirs(path)\n",
    "        else:\n",
    "            print('error path {} already exist'.format(path))"
   ]
  },
  {
   "cell_type": "code",
   "execution_count": 8,
   "metadata": {},
   "outputs": [
    {
     "data": {
      "text/plain": [
       "'utils'"
      ]
     },
     "execution_count": 8,
     "metadata": {},
     "output_type": "execute_result"
    }
   ],
   "source": [
    "paths['utils']"
   ]
  },
  {
   "cell_type": "code",
   "execution_count": null,
   "metadata": {},
   "outputs": [],
   "source": []
  }
 ],
 "metadata": {
  "kernelspec": {
   "display_name": "Python 3.10.4 ('vision')",
   "language": "python",
   "name": "python3"
  },
  "language_info": {
   "codemirror_mode": {
    "name": "ipython",
    "version": 3
   },
   "file_extension": ".py",
   "mimetype": "text/x-python",
   "name": "python",
   "nbconvert_exporter": "python",
   "pygments_lexer": "ipython3",
   "version": "3.10.5"
  },
  "orig_nbformat": 4,
  "vscode": {
   "interpreter": {
    "hash": "c93af7433719cf61beb232a937287b5f6ac44c5a03632b389ba7312dbdbeed85"
   }
  }
 },
 "nbformat": 4,
 "nbformat_minor": 2
}
